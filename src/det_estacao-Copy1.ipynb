{
 "cells": [
  {
   "cell_type": "code",
   "execution_count": null,
   "metadata": {},
   "outputs": [],
   "source": [
    "from obspy.core import Stream, read\n",
    "from obspy.signal.trigger import coincidence_trigger\n",
    "from obspy.signal.trigger import classic_sta_lta\n",
    "from obspy.signal.trigger import plot_trigger, trigger_onset\n",
    "\n",
    "from pprint import pprint\n",
    "import glob\n",
    "import os\n",
    "import sys\n",
    "\n",
    "# Pasta com os possíveis eventos recortados \n",
    "path = \"../eventos/\"\n",
    "\n",
    "if not os.path.exists(path):\n",
    "        os.mkdir(path)\n",
    "\n",
    "trigger_on = 5 # o código utiliza  \n",
    "trigger_off = 2\n",
    "sta = 0.5\n",
    "lta = 10\n",
    "\n",
    "############################################################\n",
    "# Dia juliano\n",
    "j = \"063\"\n",
    "\n",
    "# Caminho para os Dados\n",
    "#dados = \"/home/felipe/sources/DADOS/seiscomp_NRT/2022/\"\n",
    "dados = \"../DADOS/2022/\"\n",
    "\n",
    "# Rede e estações\n",
    "rede = ['LS']\n",
    "estacoes = ['JAC']\n",
    "############################################################\n",
    "\n",
    "st = Stream()\n",
    "files = []\n",
    "for r in rede:\n",
    "    files = files + glob.glob(dados + r + \"/*/*HHZ*/*\" + j)\n",
    "\n",
    "for f in files:\n",
    "    for e in estacoes:\n",
    "        if(e in f):\n",
    "            st += read(f)\n",
    "\n",
    "#tr = st[0].copy()\n",
    "#df = tr.stats.sampling_rate\n",
    "#if(df > 100):\n",
    "#    tr.decimate(4)\n",
    "#    df = tr.stats.sampling_rate\n",
    "\n",
    "st.detrend()\n",
    "st.filter('bandpass', freqmin=2, freqmax=20)\n",
    "\n",
    "st2 = st.copy()\n",
    "trig = coincidence_trigger(\"recstalta\", 7, 2, st2, 2, sta=0.3, lta=15,\n",
    "                          details=True)\n",
    "pprint(trig)\n",
    "\n",
    "    \n",
    "for d in trig:\n",
    "    \n",
    "    start = d['time'] - 5\n",
    "    end = start + 15\n",
    "    \n",
    "    pasta = path + j\n",
    "    if not os.path.exists(pasta):\n",
    "        os.mkdir(pasta)\n",
    "    \n",
    "    os.mkdir(pasta + \"/\" + str(d['time']))\n",
    "    for s in d['stations']:\n",
    "        for f in files:\n",
    "            if (s in f):\n",
    "                st2 = read(f)\n",
    "                st += st2 \n",
    "                st2.trim(start, end)\n",
    "                st2.write(path + str(d['time'])+\"/\"+str(s), format='SAC') \n",
    "        tr = st.copy()\n",
    "        tr.trim(start, end)\n",
    "        tr.write(pasta  + \"/\" + str(d['time']) + \"/\" + str(s), format='SAC')\n",
    "        tr.plot()\n",
    "        text = input(\"Digite S para gravar o evento.\")\n",
    "                \n",
    "                \n",
    "                #tr.plot()"
   ]
  },
  {
   "cell_type": "code",
   "execution_count": null,
   "metadata": {},
   "outputs": [],
   "source": [
    "estacoes"
   ]
  },
  {
   "cell_type": "code",
   "execution_count": null,
   "metadata": {},
   "outputs": [],
   "source": [
    "dados"
   ]
  },
  {
   "cell_type": "code",
   "execution_count": null,
   "metadata": {},
   "outputs": [],
   "source": [
    "dados + r + \"/*/*HHZ*/*\" + j"
   ]
  },
  {
   "cell_type": "code",
   "execution_count": null,
   "metadata": {},
   "outputs": [],
   "source": []
  }
 ],
 "metadata": {
  "kernelspec": {
   "display_name": "Python 3",
   "language": "python",
   "name": "python3"
  },
  "language_info": {
   "codemirror_mode": {
    "name": "ipython",
    "version": 3
   },
   "file_extension": ".py",
   "mimetype": "text/x-python",
   "name": "python",
   "nbconvert_exporter": "python",
   "pygments_lexer": "ipython3",
   "version": "3.7.6"
  }
 },
 "nbformat": 4,
 "nbformat_minor": 5
}
