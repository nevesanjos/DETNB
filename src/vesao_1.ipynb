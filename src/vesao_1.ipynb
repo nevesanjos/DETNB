{
 "cells": [
  {
   "cell_type": "code",
   "execution_count": 1,
   "metadata": {},
   "outputs": [],
   "source": [
    "import obspy\n",
    "from obspy.core import read\n",
    "import glob\n",
    "from obspy.core import Stream, read\n",
    "from obspy.signal.trigger import coincidence_trigger\n",
    "from pprint import pprint\n",
    "\n",
    "from obspy.core.trace import Trace\n",
    "import os"
   ]
  },
  {
   "cell_type": "code",
   "execution_count": 2,
   "metadata": {},
   "outputs": [],
   "source": [
    "st = Stream()\n",
    "\n",
    "path = \"/home/felipe/tmp/Separando_eventos/\"\n",
    "\n",
    "#files = glob.glob(path + \"dados/2022_SDS/LS/JAC*/*Z*/*\")\n",
    "\n",
    "path2 = \"/home/felipe/sources/DADOS/seiscomp_NRT/2022/NB/*/*HHZ*/*115\"\n",
    "\n",
    "files = glob.glob(path2)\n",
    "\n",
    "\n",
    "for filename in files:\n",
    "    if (\"NBTA\" in filename or \"NBMA\" in filename or \"NBPN\" in filename):\n",
    "        st += read(filename)\n",
    "    \n",
    "path2 = \"/home/felipe/sources/DADOS/seiscomp_NRT/2022/LS/JAC*/*HHZ*/*115\"\n",
    "\n",
    "files = glob.glob(path2)\n",
    "\n",
    "for filename in files:\n",
    "    st += read(filename)"
   ]
  },
  {
   "cell_type": "code",
   "execution_count": null,
   "metadata": {},
   "outputs": [],
   "source": [
    "st"
   ]
  },
  {
   "cell_type": "code",
   "execution_count": 3,
   "metadata": {},
   "outputs": [
    {
     "data": {
      "text/plain": [
       "7 Trace(s) in Stream:\n",
       "NB.NBMA..HHZ | 2022-04-25T00:00:04.515000Z - 2022-04-25T16:21:30.545000Z | 100.0 Hz, 5888604 samples\n",
       "NB.NBMA..HHZ | 2022-04-25T16:47:53.704999Z - 2022-04-25T17:23:18.404999Z | 100.0 Hz, 212471 samples\n",
       "NB.NBMA..HHZ | 2022-04-25T17:38:14.194999Z - 2022-04-25T22:13:43.084999Z | 100.0 Hz, 1652890 samples\n",
       "NB.NBTA..HHZ | 2022-04-25T00:00:04.135000Z - 2022-04-25T22:13:58.415000Z | 100.0 Hz, 8003429 samples\n",
       "NB.NBPN..HHZ | 2022-04-25T00:00:05.145000Z - 2022-04-25T22:13:30.005000Z | 100.0 Hz, 8000487 samples\n",
       "LS.JAC1..HHZ | 2022-04-25T00:00:00.857500Z - 2022-04-25T22:11:34.757500Z | 400.0 Hz, 31957561 samples\n",
       "LS.JAC9..HHZ | 2022-04-25T00:00:00.522499Z - 2022-04-25T22:13:13.599999Z | 400.0 Hz, 31997232 samples"
      ]
     },
     "execution_count": 3,
     "metadata": {},
     "output_type": "execute_result"
    }
   ],
   "source": [
    "st.filter('bandpass', freqmin=2, freqmax=20)  # optional prefiltering  # optional prefiltering\n",
    "#st.detrend()\n",
    "#st.plot()"
   ]
  },
  {
   "cell_type": "code",
   "execution_count": null,
   "metadata": {},
   "outputs": [],
   "source": []
  },
  {
   "cell_type": "code",
   "execution_count": 4,
   "metadata": {},
   "outputs": [
    {
     "name": "stdout",
     "output_type": "stream",
     "text": [
      "[{'coincidence_sum': 2.0,\n",
      "  'duration': 4.904999017715454,\n",
      "  'similarity': {},\n",
      "  'stations': ['JAC1', 'JAC9'],\n",
      "  'time': UTCDateTime(2022, 4, 25, 1, 56, 59, 675000),\n",
      "  'trace_ids': ['LS.JAC1..HHZ', 'LS.JAC9..HHZ']},\n",
      " {'coincidence_sum': 2.0,\n",
      "  'duration': 2.4974987506866455,\n",
      "  'similarity': {},\n",
      "  'stations': ['JAC1', 'JAC9'],\n",
      "  'time': UTCDateTime(2022, 4, 25, 4, 13, 54, 495000),\n",
      "  'trace_ids': ['LS.JAC1..HHZ', 'LS.JAC9..HHZ']},\n",
      " {'coincidence_sum': 2.0,\n",
      "  'duration': 5.485000133514404,\n",
      "  'similarity': {},\n",
      "  'stations': ['JAC1', 'JAC9'],\n",
      "  'time': UTCDateTime(2022, 4, 25, 8, 59, 9, 257500),\n",
      "  'trace_ids': ['LS.JAC1..HHZ', 'LS.JAC9..HHZ']},\n",
      " {'coincidence_sum': 2.0,\n",
      "  'duration': 4.507501125335693,\n",
      "  'similarity': {},\n",
      "  'stations': ['JAC9', 'JAC1'],\n",
      "  'time': UTCDateTime(2022, 4, 25, 9, 25, 36, 377499),\n",
      "  'trace_ids': ['LS.JAC9..HHZ', 'LS.JAC1..HHZ']},\n",
      " {'coincidence_sum': 2.0,\n",
      "  'duration': 8.52000093460083,\n",
      "  'similarity': {},\n",
      "  'stations': ['JAC9', 'JAC1'],\n",
      "  'time': UTCDateTime(2022, 4, 25, 9, 29, 53, 199999),\n",
      "  'trace_ids': ['LS.JAC9..HHZ', 'LS.JAC1..HHZ']},\n",
      " {'coincidence_sum': 2.0,\n",
      "  'duration': 9.344999074935913,\n",
      "  'similarity': {},\n",
      "  'stations': ['JAC1', 'JAC9'],\n",
      "  'time': UTCDateTime(2022, 4, 25, 9, 29, 53, 410000),\n",
      "  'trace_ids': ['LS.JAC1..HHZ', 'LS.JAC9..HHZ']},\n",
      " {'coincidence_sum': 2.0,\n",
      "  'duration': 4.795001029968262,\n",
      "  'similarity': {},\n",
      "  'stations': ['JAC9', 'JAC1'],\n",
      "  'time': UTCDateTime(2022, 4, 25, 9, 32, 59, 657499),\n",
      "  'trace_ids': ['LS.JAC9..HHZ', 'LS.JAC1..HHZ']},\n",
      " {'coincidence_sum': 2.0,\n",
      "  'duration': 7.360000848770142,\n",
      "  'similarity': {},\n",
      "  'stations': ['JAC9', 'JAC1'],\n",
      "  'time': UTCDateTime(2022, 4, 25, 9, 38, 8, 459999),\n",
      "  'trace_ids': ['LS.JAC9..HHZ', 'LS.JAC1..HHZ']},\n",
      " {'coincidence_sum': 2.0,\n",
      "  'duration': 3.467499017715454,\n",
      "  'similarity': {},\n",
      "  'stations': ['JAC1', 'JAC9'],\n",
      "  'time': UTCDateTime(2022, 4, 25, 9, 41, 35, 162500),\n",
      "  'trace_ids': ['LS.JAC1..HHZ', 'LS.JAC9..HHZ']},\n",
      " {'coincidence_sum': 2.0,\n",
      "  'duration': 1.9900000095367432,\n",
      "  'similarity': {},\n",
      "  'stations': ['NBPN', 'NBMA'],\n",
      "  'time': UTCDateTime(2022, 4, 25, 10, 41, 52, 115000),\n",
      "  'trace_ids': ['NB.NBPN..HHZ', 'NB.NBMA..HHZ']},\n",
      " {'coincidence_sum': 2.0,\n",
      "  'duration': 2.912498950958252,\n",
      "  'similarity': {},\n",
      "  'stations': ['JAC1', 'JAC9'],\n",
      "  'time': UTCDateTime(2022, 4, 25, 11, 40, 37, 352500),\n",
      "  'trace_ids': ['LS.JAC1..HHZ', 'LS.JAC9..HHZ']},\n",
      " {'coincidence_sum': 2.0,\n",
      "  'duration': 7.087500095367432,\n",
      "  'similarity': {},\n",
      "  'stations': ['JAC1', 'JAC9'],\n",
      "  'time': UTCDateTime(2022, 4, 25, 13, 13, 38, 575000),\n",
      "  'trace_ids': ['LS.JAC1..HHZ', 'LS.JAC9..HHZ']},\n",
      " {'coincidence_sum': 2.0,\n",
      "  'duration': 2.904999256134033,\n",
      "  'similarity': {},\n",
      "  'stations': ['JAC1', 'JAC9'],\n",
      "  'time': UTCDateTime(2022, 4, 25, 15, 15, 2, 537500),\n",
      "  'trace_ids': ['LS.JAC1..HHZ', 'LS.JAC9..HHZ']},\n",
      " {'coincidence_sum': 2.0,\n",
      "  'duration': 3.0649991035461426,\n",
      "  'similarity': {},\n",
      "  'stations': ['JAC1', 'JAC9'],\n",
      "  'time': UTCDateTime(2022, 4, 25, 17, 10, 45, 497500),\n",
      "  'trace_ids': ['LS.JAC1..HHZ', 'LS.JAC9..HHZ']},\n",
      " {'coincidence_sum': 2.0,\n",
      "  'duration': 5.677499294281006,\n",
      "  'similarity': {},\n",
      "  'stations': ['JAC1', 'JAC9'],\n",
      "  'time': UTCDateTime(2022, 4, 25, 17, 12, 37, 690000),\n",
      "  'trace_ids': ['LS.JAC1..HHZ', 'LS.JAC9..HHZ']},\n",
      " {'coincidence_sum': 2.0,\n",
      "  'duration': 3.7624990940093994,\n",
      "  'similarity': {},\n",
      "  'stations': ['JAC1', 'JAC9'],\n",
      "  'time': UTCDateTime(2022, 4, 25, 17, 14, 46, 887500),\n",
      "  'trace_ids': ['LS.JAC1..HHZ', 'LS.JAC9..HHZ']},\n",
      " {'coincidence_sum': 2.0,\n",
      "  'duration': 3.914999008178711,\n",
      "  'similarity': {},\n",
      "  'stations': ['JAC1', 'JAC9'],\n",
      "  'time': UTCDateTime(2022, 4, 25, 17, 19, 7, 987500),\n",
      "  'trace_ids': ['LS.JAC1..HHZ', 'LS.JAC9..HHZ']},\n",
      " {'coincidence_sum': 2.0,\n",
      "  'duration': 1.4099998474121094,\n",
      "  'similarity': {},\n",
      "  'stations': ['NBPN', 'NBMA'],\n",
      "  'time': UTCDateTime(2022, 4, 25, 17, 47, 3, 455000),\n",
      "  'trace_ids': ['NB.NBPN..HHZ', 'NB.NBMA..HHZ']},\n",
      " {'coincidence_sum': 2.0,\n",
      "  'duration': 3.7425010204315186,\n",
      "  'similarity': {},\n",
      "  'stations': ['NBMA', 'JAC1'],\n",
      "  'time': UTCDateTime(2022, 4, 25, 18, 0, 47, 784999),\n",
      "  'trace_ids': ['NB.NBMA..HHZ', 'LS.JAC1..HHZ']},\n",
      " {'coincidence_sum': 2.0,\n",
      "  'duration': 4.009999990463257,\n",
      "  'similarity': {},\n",
      "  'stations': ['JAC9', 'NBPN'],\n",
      "  'time': UTCDateTime(2022, 4, 25, 18, 1, 4, 342499),\n",
      "  'trace_ids': ['LS.JAC9..HHZ', 'NB.NBPN..HHZ']},\n",
      " {'coincidence_sum': 2.0,\n",
      "  'duration': 6.245000123977661,\n",
      "  'similarity': {},\n",
      "  'stations': ['JAC1', 'JAC9'],\n",
      "  'time': UTCDateTime(2022, 4, 25, 18, 51, 50, 155000),\n",
      "  'trace_ids': ['LS.JAC1..HHZ', 'LS.JAC9..HHZ']},\n",
      " {'coincidence_sum': 2.0,\n",
      "  'duration': 3.8674991130828857,\n",
      "  'similarity': {},\n",
      "  'stations': ['JAC1', 'JAC9'],\n",
      "  'time': UTCDateTime(2022, 4, 25, 19, 46, 18, 260000),\n",
      "  'trace_ids': ['LS.JAC1..HHZ', 'LS.JAC9..HHZ']},\n",
      " {'coincidence_sum': 2.0,\n",
      "  'duration': 2.572499990463257,\n",
      "  'similarity': {},\n",
      "  'stations': ['JAC1', 'NBPN'],\n",
      "  'time': UTCDateTime(2022, 4, 25, 20, 8, 5, 660000),\n",
      "  'trace_ids': ['LS.JAC1..HHZ', 'NB.NBPN..HHZ']},\n",
      " {'coincidence_sum': 2.0,\n",
      "  'duration': 2.0700008869171143,\n",
      "  'similarity': {},\n",
      "  'stations': ['JAC9', 'NBPN'],\n",
      "  'time': UTCDateTime(2022, 4, 25, 21, 13, 30, 834999),\n",
      "  'trace_ids': ['LS.JAC9..HHZ', 'NB.NBPN..HHZ']},\n",
      " {'coincidence_sum': 2.0,\n",
      "  'duration': 5.8150012493133545,\n",
      "  'similarity': {},\n",
      "  'stations': ['JAC9', 'JAC1'],\n",
      "  'time': UTCDateTime(2022, 4, 25, 21, 36, 40, 287499),\n",
      "  'trace_ids': ['LS.JAC9..HHZ', 'LS.JAC1..HHZ']},\n",
      " {'coincidence_sum': 2.0,\n",
      "  'duration': 4.700000762939453,\n",
      "  'similarity': {},\n",
      "  'stations': ['JAC9', 'JAC1'],\n",
      "  'time': UTCDateTime(2022, 4, 25, 21, 40, 21, 389999),\n",
      "  'trace_ids': ['LS.JAC9..HHZ', 'LS.JAC1..HHZ']}]\n"
     ]
    }
   ],
   "source": [
    "st2 = st.copy()\n",
    "\n",
    "trig = coincidence_trigger(\"recstalta\", 7, 2, st2, 2, sta=0.3, lta=15)\n",
    "pprint(trig)\n",
    "\n",
    "st2 = st.copy()\n",
    "\n",
    "trig = coincidence_trigger(\"recstalta\", 7, 2, st2, 2, sta=0.3, lta=15,\n",
    "\n",
    "                          details=True)\n",
    "\n",
    "#pprint(trig[0])"
   ]
  },
  {
   "cell_type": "code",
   "execution_count": null,
   "metadata": {},
   "outputs": [],
   "source": [
    "for d in trig:\n",
    "    start = d['time'] - 5\n",
    "    end = start + 15\n",
    "    os.mkdir(path+\"eventos/\" + str(d['time']))\n",
    "    for s in d['stations']:\n",
    "        for f in files:\n",
    "            if (s in f):\n",
    "                st = read(f)\n",
    "                tr = st.copy()\n",
    "                tr.trim(start, end)\n",
    "                tr.write(path+\"eventos/\"+str(d['time'])+\"/\"+str(s), format='SAC') \n",
    "                #tr.plot()"
   ]
  },
  {
   "cell_type": "code",
   "execution_count": null,
   "metadata": {},
   "outputs": [],
   "source": [
    "#st = read('/home/felipe/tmp/Separando_eventos/dados/2022_SDS/LS/JAC1/HNZ.D/LS.JAC1..HNZ.D.2022.063')\n",
    "st = read('/home/felipe/tmp/Separando_eventos/dados/2022_SDS/LS/JAC2/HHZ.D/LS.JAC2..HHZ.D.2022.063')\n",
    "\n",
    "tr = st\n",
    "tr.plot()\n",
    "\n",
    "#start = obspy.UTCDateTime(2022, 3, 4, 17, 24, 58, 70000) - \n",
    "\n",
    "start = obspy.UTCDateTime(2022, 3, 4, 2, 55, 52, 366999) - 10\n",
    "\n",
    "#start = start - 10*60*60*24 + 2\n",
    "#start = obspy.UTCDateTime(2022, 3, 4, 2, 0, 0, 0)\n",
    "end = start + 1*60\n",
    "\n",
    "tr.trim(start, end)\n",
    "print(start)\n",
    "tr.plot()"
   ]
  },
  {
   "cell_type": "code",
   "execution_count": null,
   "metadata": {},
   "outputs": [],
   "source": [
    "obspy.UTCDateTime(2022, 3, 4, 2, 55, 52, 366999)"
   ]
  },
  {
   "cell_type": "code",
   "execution_count": null,
   "metadata": {},
   "outputs": [],
   "source": [
    "path+\"eventos/\" + str(d['time'])[:-2]"
   ]
  },
  {
   "cell_type": "code",
   "execution_count": null,
   "metadata": {},
   "outputs": [],
   "source": [
    "d['time']"
   ]
  },
  {
   "cell_type": "code",
   "execution_count": null,
   "metadata": {},
   "outputs": [],
   "source": [
    "str(d['time'])"
   ]
  },
  {
   "cell_type": "code",
   "execution_count": null,
   "metadata": {},
   "outputs": [],
   "source": [
    "path+\"eventos/\"+str(s)"
   ]
  },
  {
   "cell_type": "code",
   "execution_count": null,
   "metadata": {},
   "outputs": [],
   "source": []
  }
 ],
 "metadata": {
  "kernelspec": {
   "display_name": "Python 3",
   "language": "python",
   "name": "python3"
  },
  "language_info": {
   "codemirror_mode": {
    "name": "ipython",
    "version": 3
   },
   "file_extension": ".py",
   "mimetype": "text/x-python",
   "name": "python",
   "nbconvert_exporter": "python",
   "pygments_lexer": "ipython3",
   "version": "3.7.6"
  }
 },
 "nbformat": 4,
 "nbformat_minor": 5
}
