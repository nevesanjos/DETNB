{
 "cells": [
  {
   "cell_type": "code",
   "execution_count": 19,
   "id": "e9a90ecd",
   "metadata": {},
   "outputs": [],
   "source": [
    "def stalta_pick(stream, stalen, ltalen, trig_on, trig_off, freqmin=False,\n",
    "                freqmax=False, debug=0, show=False):\n",
    "    \"\"\"\n",
    "    Basic sta/lta picker, suggest using alternative in obspy.\n",
    "    Simple sta-lta (short-term average/long-term average) picker, using \\\n",
    "    obspy's stalta routine to generate the characteristic function.\n",
    "\n",
    "    Currently very basic quick wrapper, there are many other (better) options \\\n",
    "    in obspy, found \\\n",
    "    `here <http://docs.obspy.org/packages/autogen/obspy.signal.trigger.html>`_.\n",
    "\n",
    "    :type stream: obspy.Stream\n",
    "    :param stream: The stream to pick on, can be any number of channels.\n",
    "    :type stalen: float\n",
    "    :param stalen: Length of the short-term average window in seconds.\n",
    "    :type ltalen: float\n",
    "    :param ltalen: Length of the long-term average window in seconds.\n",
    "    :type trig_on: float\n",
    "    :param trig_on: sta/lta ratio to trigger a detection/pick\n",
    "    :type trig_off: float\n",
    "    :param trig_off: sta/lta ratio to turn the trigger off - no further picks\\\n",
    "        will be made between exceeding trig_on until trig_off is reached.\n",
    "    :type freqmin: float\n",
    "    :param freqmin: Low-cut frequency in Hz for bandpass filter\n",
    "    :type freqmax: float\n",
    "    :param freqmax: High-cut frequency in Hz for bandpass filter\n",
    "    :type debug: int\n",
    "    :param debug: Debug output level from 0-5.\n",
    "    :type show: bool\n",
    "    :param show: Show picks on waveform.\n",
    "\n",
    "    :returns: obspy.core.event.Event\n",
    "\n",
    "    .. rubric:: Example\n",
    "\n",
    "    >>> from obspy import read\n",
    "    >>> from eqcorrscan.utils.picker import stalta_pick\n",
    "    >>> st = read()\n",
    "    >>> event = stalta_pick(st, stalen=0.2, ltalen=4, trig_on=10,\n",
    "    ...             trig_off=1, freqmin=3.0, freqmax=20.0)\n",
    "    >>> event.creation_info.author\n",
    "    'EQcorrscan'\n",
    "    \"\"\"\n",
    "    from obspy.signal.trigger import classic_sta_lta, trigger_onset\n",
    "    from obspy.signal.trigger import plot_trigger\n",
    "    from obspy import UTCDateTime\n",
    "    from obspy.core.event import Event, Pick, WaveformStreamID\n",
    "    from obspy.core.event import CreationInfo, Comment, Origin\n",
    "    #import eqcorrscan.utils.plotting as plotting\n",
    "\n",
    "    event = Event()\n",
    "    event.origins.append(Origin())\n",
    "    event.creation_info = CreationInfo(author='EQcorrscan',\n",
    "                                       creation_time=UTCDateTime())\n",
    "    event.comments.append(Comment(text='stalta'))\n",
    "    picks = []\n",
    "    for tr in stream:\n",
    "        # We are going to assume, for now, that if the pick is made on the\n",
    "        # horizontal channel then it is an S, otherwise we will assume it is\n",
    "        # a P-phase: obviously a bad assumption...\n",
    "        if tr.stats.channel[-1] == 'Z':\n",
    "            phase = 'P'\n",
    "        else:\n",
    "            phase = 'S'\n",
    "        if freqmin and freqmax:\n",
    "            tr.detrend('simple')\n",
    "            tr.filter('bandpass', freqmin=freqmin, freqmax=freqmax,\n",
    "                      corners=3, zerophase=True)\n",
    "        df = tr.stats.sampling_rate\n",
    "        cft = classic_sta_lta(tr.data, int(stalen * df), int(ltalen * df))\n",
    "        if debug > 3:\n",
    "            plot_trigger(tr, cft, trig_on, trig_off)\n",
    "        triggers = trigger_onset(cft, trig_on, trig_off)\n",
    "        for trigger in triggers:\n",
    "            on = tr.stats.starttime + (trigger[0] / df)\n",
    "            # off = tr.stats.starttime + (trigger[1] / df)\n",
    "            wav_id = WaveformStreamID(station_code=tr.stats.station,\n",
    "                                      channel_code=tr.stats.channel,\n",
    "                                      network_code=tr.stats.network)\n",
    "            pick = Pick(waveform_id=wav_id, phase_hint=phase, time=on)\n",
    "            if debug > 2:\n",
    "                print('Pick made:')\n",
    "                print(pick)\n",
    "            picks.append(pick)\n",
    "    # QC picks\n",
    "    #del pick\n",
    "    pick_stations = list(set([pick.waveform_id.station_code for pick in picks]))\n",
    "    for pick_station in pick_stations:\n",
    "        station_picks = [pick for pick in picks if\n",
    "                         pick.waveform_id.station_code == pick_station]\n",
    "        # If P-pick is after S-picks, remove it.\n",
    "        p_time = [pick.time for pick in station_picks if pick.phase_hint == 'P']\n",
    "        s_time = [pick.time for pick in station_picks if pick.phase_hint == 'S']\n",
    "        #if p_time > s_time:\n",
    "        #    p_pick = [pick for pick in station_picks if pick.phase_hint == 'P']\n",
    "        #    for pick in p_pick:\n",
    "        #        print('P pick after S pick, removing P pick')\n",
    "        #        picks.remove(pick)\n",
    "    if show:\n",
    "        plotting.pretty_template_plot(stream, picks=picks, title='Autopicks',\n",
    "                                      size=(8, 9))\n",
    "    event.picks = picks\n",
    "    event.origins[0].time = min([pick.time for pick in event.picks]) - 1\n",
    "    #event.origins[0].latitude = float('nan')\n",
    "    #event.origins[0].longitude = float('nan')\n",
    "    # Set arbitrary origin time\n",
    "    return event"
   ]
  },
  {
   "cell_type": "code",
   "execution_count": 28,
   "id": "07391163",
   "metadata": {},
   "outputs": [],
   "source": [
    "import obspy\n",
    "from obspy.core import read\n",
    "filename = '/home/felipe/sources/DADOS/seiscomp_NRT/2022/NB/NBTA/HHZ.D/NB.NBTA..HHZ.D.2022.115'\n",
    "st = read(filename)"
   ]
  },
  {
   "cell_type": "code",
   "execution_count": 29,
   "id": "21358ff2",
   "metadata": {},
   "outputs": [
    {
     "data": {
      "text/plain": [
       "Event:\t2022-04-25T17:14:19.155000Z | None, None\n",
       "\n",
       "\t   resource_id: ResourceIdentifier(id=\"smi:local/38c041ae-1d88-4bbf-88d7-0562c0909eef\")\n",
       "\t creation_info: CreationInfo(author='EQcorrscan', creation_time=UTCDateTime(2022, 4, 26, 15, 18, 46, 215952))\n",
       "\t          ---------\n",
       "\t      comments: 1 Elements\n",
       "\t         picks: 2 Elements\n",
       "\t       origins: 1 Elements"
      ]
     },
     "execution_count": 29,
     "metadata": {},
     "output_type": "execute_result"
    }
   ],
   "source": [
    "stalta_pick(st,0.5,10000,20,5,freqmin=2,freqmax=15)"
   ]
  },
  {
   "cell_type": "code",
   "execution_count": 12,
   "id": "0abe0d07",
   "metadata": {},
   "outputs": [
    {
     "data": {
      "text/plain": [
       "1 Trace(s) in Stream:\n",
       "NB.NBTA..HHZ | 2022-04-25T00:00:04.135000Z - 2022-04-26T00:00:01.525000Z | 100.0 Hz, 8639740 samples"
      ]
     },
     "execution_count": 12,
     "metadata": {},
     "output_type": "execute_result"
    }
   ],
   "source": [
    "st"
   ]
  },
  {
   "cell_type": "code",
   "execution_count": null,
   "id": "3f5416d5",
   "metadata": {},
   "outputs": [],
   "source": []
  }
 ],
 "metadata": {
  "kernelspec": {
   "display_name": "Python 3 (ipykernel)",
   "language": "python",
   "name": "python3"
  },
  "language_info": {
   "codemirror_mode": {
    "name": "ipython",
    "version": 3
   },
   "file_extension": ".py",
   "mimetype": "text/x-python",
   "name": "python",
   "nbconvert_exporter": "python",
   "pygments_lexer": "ipython3",
   "version": "3.9.7"
  }
 },
 "nbformat": 4,
 "nbformat_minor": 5
}
