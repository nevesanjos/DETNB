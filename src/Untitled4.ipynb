{
 "cells": [
  {
   "cell_type": "code",
   "execution_count": 8,
   "id": "d8dd6325",
   "metadata": {},
   "outputs": [],
   "source": [
    "from obspy import read\n",
    "from obspy.signal.cross_correlation import correlate\n",
    "from obspy.signal.cross_correlation import correlate_template\n",
    "\n",
    "#a = read('/home/felipe/tmp/Separando_eventos/eventos/2022-03-04T02:55:52.385999Z/JAC2*HHZ')\n",
    "#b = read('/home/felipe/tmp/Separando_eventos/eventos/2022-03-04T08:29:41.010000Z/JAC2*HHZ')"
   ]
  },
  {
   "cell_type": "code",
   "execution_count": 11,
   "id": "f8034b60",
   "metadata": {},
   "outputs": [
    {
     "ename": "ModuleNotFoundError",
     "evalue": "No module named 'synthetic_tests_lib'",
     "output_type": "error",
     "traceback": [
      "\u001b[0;31m---------------------------------------------------------------------------\u001b[0m",
      "\u001b[0;31mModuleNotFoundError\u001b[0m                       Traceback (most recent call last)",
      "\u001b[0;32m/tmp/ipykernel_7670/2734974589.py\u001b[0m in \u001b[0;36m<module>\u001b[0;34m\u001b[0m\n\u001b[1;32m      2\u001b[0m \u001b[0;32mimport\u001b[0m \u001b[0mmatplotlib\u001b[0m\u001b[0;34m.\u001b[0m\u001b[0mpyplot\u001b[0m \u001b[0;32mas\u001b[0m \u001b[0mplt\u001b[0m\u001b[0;34m\u001b[0m\u001b[0;34m\u001b[0m\u001b[0m\n\u001b[1;32m      3\u001b[0m \u001b[0;32mimport\u001b[0m \u001b[0mpandas\u001b[0m \u001b[0;32mas\u001b[0m \u001b[0mpd\u001b[0m\u001b[0;34m\u001b[0m\u001b[0;34m\u001b[0m\u001b[0m\n\u001b[0;32m----> 4\u001b[0;31m \u001b[0;32mfrom\u001b[0m \u001b[0msynthetic_tests_lib\u001b[0m \u001b[0;32mimport\u001b[0m \u001b[0mcrosscorr\u001b[0m\u001b[0;34m\u001b[0m\u001b[0;34m\u001b[0m\u001b[0m\n\u001b[0m\u001b[1;32m      5\u001b[0m \u001b[0;34m\u001b[0m\u001b[0m\n\u001b[1;32m      6\u001b[0m \u001b[0;34m\u001b[0m\u001b[0m\n",
      "\u001b[0;31mModuleNotFoundError\u001b[0m: No module named 'synthetic_tests_lib'"
     ]
    }
   ],
   "source": [
    "import numpy as np\n",
    "import matplotlib.pyplot as plt\n",
    "import pandas as pd\n",
    "from synthetic_tests_lib import crosscorr\n",
    "\n",
    "\n",
    "time_series = ['BO.ABU', 'BO.NOK']\n",
    "dirName = \"data/\"\n",
    "fs = 748  # take 748 samples only\n",
    "MR = len(time_series)\n",
    "Y = np.zeros((MR, fs))\n",
    "dictVals = {}\n",
    "for ind, series in enumerate(time_series):\n",
    "    filename = dirName + series + \".txt\"\n",
    "    df = pd.read_csv(filename, names=[\n",
    "                     'time', 'U'], skiprows=1, delimiter='\\s+')  # reading file as pandas dataframe to work easily\n",
    "\n",
    "    # this code block is required as the different time series has not even sampling, so dealing with each data point separately comes handy\n",
    "    # can be replaced by simply `yvalues = df['U]`\n",
    "    yvalues = []\n",
    "    for i in range(1, fs+1):\n",
    "        val = df.loc[df['time'] == i]['U'].values[0]\n",
    "        yvalues.append(val)\n",
    "\n",
    "    dictVals[time_series[ind]] = yvalues\n",
    "\n",
    "\n",
    "timeSeriesDf = pd.DataFrame(dictVals)\n"
   ]
  },
  {
   "cell_type": "code",
   "execution_count": null,
   "id": "cc90bcf5",
   "metadata": {},
   "outputs": [],
   "source": []
  }
 ],
 "metadata": {
  "kernelspec": {
   "display_name": "Python 3 (ipykernel)",
   "language": "python",
   "name": "python3"
  },
  "language_info": {
   "codemirror_mode": {
    "name": "ipython",
    "version": 3
   },
   "file_extension": ".py",
   "mimetype": "text/x-python",
   "name": "python",
   "nbconvert_exporter": "python",
   "pygments_lexer": "ipython3",
   "version": "3.9.7"
  }
 },
 "nbformat": 4,
 "nbformat_minor": 5
}
